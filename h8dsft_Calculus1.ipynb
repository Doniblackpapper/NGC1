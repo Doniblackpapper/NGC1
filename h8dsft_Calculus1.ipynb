{
  "nbformat": 4,
  "nbformat_minor": 0,
  "metadata": {
    "colab": {
      "name": "h8dsft_Calculus1.ipynb",
      "provenance": []
    },
    "kernelspec": {
      "name": "python3",
      "display_name": "Python 3"
    },
    "language_info": {
      "name": "python"
    }
  },
  "cells": [
    {
      "cell_type": "code",
      "metadata": {
        "id": "rOsm6eeoTic8"
      },
      "source": [
        "#library yang digunakan \n",
        "import sympy as sy"
      ],
      "execution_count": 1,
      "outputs": []
    },
    {
      "cell_type": "code",
      "metadata": {
        "id": "u__fMHf3UcG9"
      },
      "source": [
        "#define functions as symbols\n",
        "x,y = sy.symbols(\"x y\")\n",
        "fx = x**2+2*x+1\n",
        "fx2 = 4*x**3+3*x**2+2*x-1"
      ],
      "execution_count": 2,
      "outputs": []
    },
    {
      "cell_type": "code",
      "metadata": {
        "colab": {
          "base_uri": "https://localhost:8080/",
          "height": 39
        },
        "id": "MQUBURkUUl4V",
        "outputId": "d78776ae-bbc5-4c94-be10-608534d81e18"
      },
      "source": [
        "fx"
      ],
      "execution_count": 3,
      "outputs": [
        {
          "output_type": "execute_result",
          "data": {
            "text/latex": "$\\displaystyle x^{2} + 2 x + 1$",
            "text/plain": [
              "x**2 + 2*x + 1"
            ]
          },
          "metadata": {},
          "execution_count": 3
        }
      ]
    },
    {
      "cell_type": "code",
      "metadata": {
        "colab": {
          "base_uri": "https://localhost:8080/",
          "height": 39
        },
        "id": "ia8cBzj5Uo-H",
        "outputId": "19b9d73a-d09d-48dc-c6ce-80df43318b5e"
      },
      "source": [
        "fx2"
      ],
      "execution_count": 4,
      "outputs": [
        {
          "output_type": "execute_result",
          "data": {
            "text/latex": "$\\displaystyle 4 x^{3} + 3 x^{2} + 2 x - 1$",
            "text/plain": [
              "4*x**3 + 3*x**2 + 2*x - 1"
            ]
          },
          "metadata": {},
          "execution_count": 4
        }
      ]
    },
    {
      "cell_type": "code",
      "metadata": {
        "colab": {
          "base_uri": "https://localhost:8080/",
          "height": 39
        },
        "id": "2sQ5ow8IUrAL",
        "outputId": "bd7da934-113f-47ec-fde7-cde802a267cc"
      },
      "source": [
        "#derivative fx\n",
        "fx.diff(x)"
      ],
      "execution_count": 5,
      "outputs": [
        {
          "output_type": "execute_result",
          "data": {
            "text/latex": "$\\displaystyle 2 x + 2$",
            "text/plain": [
              "2*x + 2"
            ]
          },
          "metadata": {},
          "execution_count": 5
        }
      ]
    },
    {
      "cell_type": "code",
      "metadata": {
        "id": "UDM2_-RTUvi2",
        "outputId": "77f667e0-6ede-4a1d-f24f-1be87b9e875b",
        "colab": {
          "base_uri": "https://localhost:8080/",
          "height": 39
        }
      },
      "source": [
        "#derivative fx2\n",
        "fx2.diff(x)"
      ],
      "execution_count": 6,
      "outputs": [
        {
          "output_type": "execute_result",
          "data": {
            "text/latex": "$\\displaystyle 12 x^{2} + 6 x + 2$",
            "text/plain": [
              "12*x**2 + 6*x + 2"
            ]
          },
          "metadata": {},
          "execution_count": 6
        }
      ]
    }
  ]
}