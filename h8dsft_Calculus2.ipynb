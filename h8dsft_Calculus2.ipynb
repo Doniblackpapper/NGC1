{
  "nbformat": 4,
  "nbformat_minor": 0,
  "metadata": {
    "colab": {
      "name": "h8dsft_Calculus2.ipynb",
      "provenance": []
    },
    "kernelspec": {
      "name": "python3",
      "display_name": "Python 3"
    },
    "language_info": {
      "name": "python"
    }
  },
  "cells": [
    {
      "cell_type": "code",
      "metadata": {
        "id": "iJbw9uFpPyVb"
      },
      "source": [
        "#import library\n",
        "import sympy as sy\n",
        "#define x as symbol\n",
        "x= sy.Symbol(\"x\")"
      ],
      "execution_count": 1,
      "outputs": []
    },
    {
      "cell_type": "code",
      "metadata": {
        "id": "6V70b1OlP4UZ"
      },
      "source": [
        "#define function\n",
        "f = 3*x**2 - 6*x +3\n",
        "f2= 8*x**3-x**2+5*x-1\n"
      ],
      "execution_count": 3,
      "outputs": []
    },
    {
      "cell_type": "code",
      "metadata": {
        "colab": {
          "base_uri": "https://localhost:8080/",
          "height": 39
        },
        "id": "XQaRGQThP8V1",
        "outputId": "d21faf32-971a-43b8-8c71-38c438c2b74b"
      },
      "source": [
        "f"
      ],
      "execution_count": 4,
      "outputs": [
        {
          "output_type": "execute_result",
          "data": {
            "text/latex": "$\\displaystyle 3 x^{2} - 6 x + 3$",
            "text/plain": [
              "3*x**2 - 6*x + 3"
            ]
          },
          "metadata": {},
          "execution_count": 4
        }
      ]
    },
    {
      "cell_type": "code",
      "metadata": {
        "colab": {
          "base_uri": "https://localhost:8080/",
          "height": 39
        },
        "id": "IPQa646-QO92",
        "outputId": "2d3ffa12-59e0-4b8a-8a9a-a3d48c14e52e"
      },
      "source": [
        "f2"
      ],
      "execution_count": 5,
      "outputs": [
        {
          "output_type": "execute_result",
          "data": {
            "text/latex": "$\\displaystyle 8 x^{3} - x^{2} + 5 x - 1$",
            "text/plain": [
              "8*x**3 - x**2 + 5*x - 1"
            ]
          },
          "metadata": {},
          "execution_count": 5
        }
      ]
    },
    {
      "cell_type": "code",
      "metadata": {
        "colab": {
          "base_uri": "https://localhost:8080/",
          "height": 39
        },
        "id": "1qrn0wM-QQas",
        "outputId": "fdbb8025-3d41-4984-f79f-cc966b8a902c"
      },
      "source": [
        "fIn=sy.integrate(f)\n",
        "fIn"
      ],
      "execution_count": 6,
      "outputs": [
        {
          "output_type": "execute_result",
          "data": {
            "text/latex": "$\\displaystyle x^{3} - 3 x^{2} + 3 x$",
            "text/plain": [
              "x**3 - 3*x**2 + 3*x"
            ]
          },
          "metadata": {},
          "execution_count": 6
        }
      ]
    },
    {
      "cell_type": "code",
      "metadata": {
        "colab": {
          "base_uri": "https://localhost:8080/",
          "height": 54
        },
        "id": "wDbrKW4dQeBE",
        "outputId": "1b64a6f8-ef01-4267-bba7-edd6bb96cec2"
      },
      "source": [
        "fIn=sy.integrate(f2)\n",
        "fIn"
      ],
      "execution_count": 7,
      "outputs": [
        {
          "output_type": "execute_result",
          "data": {
            "text/latex": "$\\displaystyle 2 x^{4} - \\frac{x^{3}}{3} + \\frac{5 x^{2}}{2} - x$",
            "text/plain": [
              "2*x**4 - x**3/3 + 5*x**2/2 - x"
            ]
          },
          "metadata": {},
          "execution_count": 7
        }
      ]
    }
  ]
}