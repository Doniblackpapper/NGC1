{
  "nbformat": 4,
  "nbformat_minor": 0,
  "metadata": {
    "colab": {
      "name": "Untitled25.ipynb",
      "provenance": []
    },
    "kernelspec": {
      "name": "python3",
      "display_name": "Python 3"
    },
    "language_info": {
      "name": "python"
    }
  },
  "cells": [
    {
      "cell_type": "markdown",
      "metadata": {
        "id": "CFXbRe-w6I3B"
      },
      "source": [
        "Buatlah sebuah kode untuk mensimulasikan melempar koin sebanyak 50.000 kali dengan assign value random berupa 0 dan 1 untuk kepala atau ekor. Setiap kali koin dilempar, peluang untuk mendapatkan kepala atau ekor adalah 50%."
      ]
    },
    {
      "cell_type": "markdown",
      "metadata": {
        "id": "mMh7bMgI6RJ4"
      },
      "source": [
        "#Library"
      ]
    },
    {
      "cell_type": "code",
      "metadata": {
        "id": "4ipEl-vnyE6k"
      },
      "source": [
        "#import library\n",
        "import numpy as np"
      ],
      "execution_count": 2,
      "outputs": []
    },
    {
      "cell_type": "code",
      "metadata": {
        "colab": {
          "base_uri": "https://localhost:8080/"
        },
        "id": "BhN5hReu6HzN",
        "outputId": "9f494853-30ac-420a-ddb1-9c884affd262"
      },
      "source": [
        "#probabilitas 50%\n",
        "probabilitas =.5\n",
        "\n",
        "#loop 50,000\n",
        "a = 50000\n",
        "\n",
        "#pencatatan hasil\n",
        "hasil = np.arange(n)\n",
        "\n",
        "def coinFlip(p):    \n",
        "    #melakukan binomial distribution (mengembalikan 0 or 1)    \n",
        "    hasil = np.random.binomial(1,p) \n",
        "       \n",
        "    #return hasil ke tempat pencatatan    \n",
        "    return hasil\n",
        "\n",
        "#melakkukan jumlah flip yang dibutuhkan \n",
        "for i in range(0, a):    \n",
        "    hasil[i] = coinFlip(probabilitas)    \n",
        "    i+=1\n",
        "\n",
        "#print hasil\n",
        "print(\"Probabilitas diatur: \", probabilitas)\n",
        "print(\"Tails = 0, Heads = 1: \", hasil)\n",
        "#Perhitungan heads dan tails \n",
        "print(\"Head Count: \", np.count_nonzero(hasil == 1))\n",
        "print(\"Tail Count: \", np.count_nonzero(hasil == 0))"
      ],
      "execution_count": 4,
      "outputs": [
        {
          "output_type": "stream",
          "name": "stdout",
          "text": [
            "Probabilitas diatur:  0.5\n",
            "Tails = 0, Heads = 1:  [0 1 0 ... 0 0 0]\n",
            "Head Count:  24942\n",
            "Tail Count:  25058\n"
          ]
        }
      ]
    }
  ]
}