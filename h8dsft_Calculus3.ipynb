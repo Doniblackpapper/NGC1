{
  "nbformat": 4,
  "nbformat_minor": 0,
  "metadata": {
    "colab": {
      "name": "h8dsft_Calculus3.ipynb",
      "provenance": []
    },
    "kernelspec": {
      "name": "python3",
      "display_name": "Python 3"
    },
    "language_info": {
      "name": "python"
    }
  },
  "cells": [
    {
      "cell_type": "code",
      "metadata": {
        "colab": {
          "base_uri": "https://localhost:8080/",
          "height": 39
        },
        "id": "mRcywEs2RX8h",
        "outputId": "7502997c-de8a-4975-8139-af61cef8f544"
      },
      "source": [
        "#redefine function as 3x+4y-5=0 \n",
        "# 3x-5=4y\n",
        "# 3x/4-5/4 =y\n",
        "#f(x) = 3/4x -5/4\n",
        "\n",
        "#import library\n",
        "import sympy as sy\n",
        "#define fucntion as symbol\n",
        "x = sy.Symbol(\"x\", real =True)\n",
        "fx = 3/4*x -5/4\n",
        "fx"
      ],
      "execution_count": 1,
      "outputs": [
        {
          "output_type": "execute_result",
          "data": {
            "text/latex": "$\\displaystyle 0.75 x - 1.25$",
            "text/plain": [
              "0.75*x - 1.25"
            ]
          },
          "metadata": {},
          "execution_count": 1
        }
      ]
    },
    {
      "cell_type": "code",
      "metadata": {
        "colab": {
          "base_uri": "https://localhost:8080/",
          "height": 38
        },
        "id": "_6qpQRrERY-a",
        "outputId": "09338a67-632e-4758-e2aa-12741e4a63d9"
      },
      "source": [
        "#gradient \n",
        "fxGrad = sy.diff(fx)\n",
        "fxGrad"
      ],
      "execution_count": 2,
      "outputs": [
        {
          "output_type": "execute_result",
          "data": {
            "text/latex": "$\\displaystyle 0.75$",
            "text/plain": [
              "0.750000000000000"
            ]
          },
          "metadata": {},
          "execution_count": 2
        }
      ]
    },
    {
      "cell_type": "code",
      "metadata": {
        "colab": {
          "base_uri": "https://localhost:8080/",
          "height": 39
        },
        "id": "ntHVzA8FRleD",
        "outputId": "6ab9d461-0b12-4165-a6c1-d27a7f17a44c"
      },
      "source": [
        "#partial deriavative\n",
        "x,y = sy.symbols(\"x y \")\n",
        "fxy = 3*x+4*y-5\n",
        "fxy"
      ],
      "execution_count": 3,
      "outputs": [
        {
          "output_type": "execute_result",
          "data": {
            "text/latex": "$\\displaystyle 3 x + 4 y - 5$",
            "text/plain": [
              "3*x + 4*y - 5"
            ]
          },
          "metadata": {},
          "execution_count": 3
        }
      ]
    },
    {
      "cell_type": "code",
      "metadata": {
        "colab": {
          "base_uri": "https://localhost:8080/",
          "height": 38
        },
        "id": "p3t2elfPRrDq",
        "outputId": "553069a6-b360-4123-c02d-cc74e279617b"
      },
      "source": [
        "#get gradien\n",
        "from sympy.tensor.array import derive_by_array\n",
        "grad = derive_by_array(fxy,(x,y))\n",
        "grad"
      ],
      "execution_count": 4,
      "outputs": [
        {
          "output_type": "execute_result",
          "data": {
            "text/latex": "$\\displaystyle \\left[\\begin{matrix}3 & 4\\end{matrix}\\right]$",
            "text/plain": [
              "[3, 4]"
            ]
          },
          "metadata": {},
          "execution_count": 4
        }
      ]
    }
  ]
}