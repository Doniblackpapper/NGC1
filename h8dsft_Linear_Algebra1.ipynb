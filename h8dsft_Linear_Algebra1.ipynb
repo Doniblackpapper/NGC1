{
  "nbformat": 4,
  "nbformat_minor": 0,
  "metadata": {
    "colab": {
      "name": "NGC 3",
      "provenance": []
    },
    "kernelspec": {
      "name": "python3",
      "display_name": "Python 3"
    },
    "language_info": {
      "name": "python"
    }
  },
  "cells": [
    {
      "cell_type": "code",
      "metadata": {
        "id": "8ur87jza_ttC"
      },
      "source": [
        "import pandas as pd\n",
        "import numpy as np\n",
        "import matplotlib.pyplot as plt"
      ],
      "execution_count": 49,
      "outputs": []
    },
    {
      "cell_type": "code",
      "metadata": {
        "colab": {
          "base_uri": "https://localhost:8080/"
        },
        "id": "2Byd_UPPAbhd",
        "outputId": "21428350-2a51-4f2a-d8d1-5db6ed3c54e1"
      },
      "source": [
        "#vector\n",
        "A=([17,22,19])\n",
        "VA=np.array(A)\n",
        "print (A)"
      ],
      "execution_count": 50,
      "outputs": [
        {
          "output_type": "stream",
          "name": "stdout",
          "text": [
            "[17, 22, 19]\n"
          ]
        }
      ]
    },
    {
      "cell_type": "code",
      "metadata": {
        "id": "MTyW1SWyBm9o"
      },
      "source": [
        "B=([10,20,11])\n",
        "C=([5,12,9])\n",
        "VB=np.array(B)\n",
        "VC=np.array(C)"
      ],
      "execution_count": 51,
      "outputs": []
    },
    {
      "cell_type": "code",
      "metadata": {
        "colab": {
          "base_uri": "https://localhost:8080/"
        },
        "id": "J_6FOuXJBxxI",
        "outputId": "7d47d86d-dfae-45f5-9e63-3e70fc04a703"
      },
      "source": [
        "#A+B\n",
        "VA+VB"
      ],
      "execution_count": 52,
      "outputs": [
        {
          "output_type": "execute_result",
          "data": {
            "text/plain": [
              "array([27, 42, 30])"
            ]
          },
          "metadata": {},
          "execution_count": 52
        }
      ]
    },
    {
      "cell_type": "code",
      "metadata": {
        "colab": {
          "base_uri": "https://localhost:8080/"
        },
        "id": "L5nczHRVB8L8",
        "outputId": "601032e8-640c-4047-e952-256fcf3bfd16"
      },
      "source": [
        "#B+C\n",
        "VB+VC"
      ],
      "execution_count": 53,
      "outputs": [
        {
          "output_type": "execute_result",
          "data": {
            "text/plain": [
              "array([15, 32, 20])"
            ]
          },
          "metadata": {},
          "execution_count": 53
        }
      ]
    },
    {
      "cell_type": "code",
      "metadata": {
        "colab": {
          "base_uri": "https://localhost:8080/"
        },
        "id": "v-c6VbXmCBn1",
        "outputId": "428f0e6a-7925-4c19-c0bf-de5b3ff8e339"
      },
      "source": [
        "#B-C\n",
        "VB-VC\n"
      ],
      "execution_count": 54,
      "outputs": [
        {
          "output_type": "execute_result",
          "data": {
            "text/plain": [
              "array([5, 8, 2])"
            ]
          },
          "metadata": {},
          "execution_count": 54
        }
      ]
    },
    {
      "cell_type": "code",
      "metadata": {
        "colab": {
          "base_uri": "https://localhost:8080/"
        },
        "id": "oZWKnRVIDKEp",
        "outputId": "66205b9a-d890-4a1b-bb74-5b3a274d3d10"
      },
      "source": [
        "#A.C\n",
        "VA.dot (VC)"
      ],
      "execution_count": 55,
      "outputs": [
        {
          "output_type": "execute_result",
          "data": {
            "text/plain": [
              "520"
            ]
          },
          "metadata": {},
          "execution_count": 55
        }
      ]
    },
    {
      "cell_type": "code",
      "metadata": {
        "colab": {
          "base_uri": "https://localhost:8080/"
        },
        "id": "7KUvXBWXC7G7",
        "outputId": "6d210203-627d-42a7-857e-0741516065a8"
      },
      "source": [
        "#A*C\n",
        "VA*VB"
      ],
      "execution_count": 56,
      "outputs": [
        {
          "output_type": "execute_result",
          "data": {
            "text/plain": [
              "array([170, 440, 209])"
            ]
          },
          "metadata": {},
          "execution_count": 56
        }
      ]
    },
    {
      "cell_type": "code",
      "metadata": {
        "colab": {
          "base_uri": "https://localhost:8080/"
        },
        "id": "awNVRa6oDFNu",
        "outputId": "6712ae1c-f45c-4e75-914c-911068958092"
      },
      "source": [
        "#norm A\n",
        "np.linalg.norm(VA)"
      ],
      "execution_count": 57,
      "outputs": [
        {
          "output_type": "execute_result",
          "data": {
            "text/plain": [
              "33.67491648096547"
            ]
          },
          "metadata": {},
          "execution_count": 57
        }
      ]
    },
    {
      "cell_type": "code",
      "metadata": {
        "colab": {
          "base_uri": "https://localhost:8080/"
        },
        "id": "plYw2uEeCra9",
        "outputId": "338f6dee-f167-425f-f8c0-9bd60815289d"
      },
      "source": [
        "VA.dot(VB)"
      ],
      "execution_count": 58,
      "outputs": [
        {
          "output_type": "execute_result",
          "data": {
            "text/plain": [
              "819"
            ]
          },
          "metadata": {},
          "execution_count": 58
        }
      ]
    },
    {
      "cell_type": "code",
      "metadata": {
        "id": "gvs9NDT2Jjeg"
      },
      "source": [
        "u=([2,5])\n",
        "v=([3,1])\n",
        "U=np.array(u)\n",
        "V=np.array(v)"
      ],
      "execution_count": 59,
      "outputs": []
    },
    {
      "cell_type": "code",
      "metadata": {
        "colab": {
          "base_uri": "https://localhost:8080/",
          "height": 324
        },
        "id": "QB6Ei3jQKkf7",
        "outputId": "8e0caf0d-a4a1-4054-ea61-02cd7bb22ba0"
      },
      "source": [
        "x_coords, y_coords = zip(U, V)\n",
        "plt.scatter(x_coords, y_coords, color=[\"R\",\"G\"])\n",
        "plt.axis([0, 9, 0, 6])\n",
        "plt.grid()\n",
        "plt.show()"
      ],
      "execution_count": 61,
      "outputs": [
        {
          "output_type": "stream",
          "name": "stderr",
          "text": [
            "/usr/local/lib/python3.7/dist-packages/ipykernel_launcher.py:2: MatplotlibDeprecationWarning: Support for uppercase single-letter colors is deprecated since Matplotlib 3.1 and will be removed in 3.3; please use lowercase instead.\n",
            "  \n"
          ]
        },
        {
          "output_type": "display_data",
          "data": {
            "image/png": "[encoded data removed]",
            "text/plain": [
              "<Figure size 432x288 with 1 Axes>"
            ]
          },
          "metadata": {
            "needs_background": "light"
          }
        }
      ]
    }
  ]
}