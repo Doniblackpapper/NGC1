{
  "nbformat": 4,
  "nbformat_minor": 0,
  "metadata": {
    "colab": {
      "name": "h8dsft_Descriptive",
      "provenance": []
    },
    "kernelspec": {
      "name": "python3",
      "display_name": "Python 3"
    },
    "language_info": {
      "name": "python"
    }
  },
  "cells": [
    {
      "cell_type": "code",
      "metadata": {
        "id": "XJIGdr5y9Z4D"
      },
      "source": [
        "import pandas as pd\n",
        "import numpy as np\n",
        "import matplotlib.pyplot as plt\n",
        "import seaborn as sns\n",
        "import scipy.stats as stats\n",
        "from scipy.stats import t as t_func\n",
        "from scipy.stats import norm\n",
        "from scipy.stats import kurtosis"
      ],
      "execution_count": 7,
      "outputs": []
    },
    {
      "cell_type": "code",
      "metadata": {
        "colab": {
          "base_uri": "https://localhost:8080/",
          "height": 382
        },
        "id": "yb4_-OwZ9yfd",
        "outputId": "cbf7ff70-70fa-49e4-9638-d86cd0ce4ed1"
      },
      "source": [
        "df = pd.read_csv(\"covid19.csv\")\n",
        "df.head()"
      ],
      "execution_count": 8,
      "outputs": [
        {
          "output_type": "execute_result",
          "data": {
            "text/html": [
              "<div>\n",
              "<style scoped>\n",
              "    .dataframe tbody tr th:only-of-type {\n",
              "        vertical-align: middle;\n",
              "    }\n",
              "\n",
              "    .dataframe tbody tr th {\n",
              "        vertical-align: top;\n",
              "    }\n",
              "\n",
              "    .dataframe thead th {\n",
              "        text-align: right;\n",
              "    }\n",
              "</style>\n",
              "<table border=\"1\" class=\"dataframe\">\n",
              "  <thead>\n",
              "    <tr style=\"text-align: right;\">\n",
              "      <th></th>\n",
              "      <th>Date</th>\n",
              "      <th>Location ISO Code</th>\n",
              "      <th>Location</th>\n",
              "      <th>New Cases</th>\n",
              "      <th>New Deaths</th>\n",
              "      <th>New Recovered</th>\n",
              "      <th>New Active Cases</th>\n",
              "      <th>Total Cases</th>\n",
              "      <th>Total Deaths</th>\n",
              "      <th>Total Recovered</th>\n",
              "      <th>Total Active Cases</th>\n",
              "      <th>Location Level</th>\n",
              "      <th>City or Regency</th>\n",
              "      <th>Province</th>\n",
              "      <th>Country</th>\n",
              "      <th>Continent</th>\n",
              "      <th>Island</th>\n",
              "      <th>Time Zone</th>\n",
              "      <th>Special Status</th>\n",
              "      <th>Total Regencies</th>\n",
              "      <th>Total Cities</th>\n",
              "      <th>Total Districts</th>\n",
              "      <th>Total Urban Villages</th>\n",
              "      <th>Total Rural Villages</th>\n",
              "      <th>Area (km2)</th>\n",
              "      <th>Population</th>\n",
              "      <th>Population Density</th>\n",
              "      <th>Longitude</th>\n",
              "      <th>Latitude</th>\n",
              "      <th>New Cases per Million</th>\n",
              "      <th>Total Cases per Million</th>\n",
              "      <th>New Deaths per Million</th>\n",
              "      <th>Total Deaths per Million</th>\n",
              "      <th>Total Deaths per 100rb</th>\n",
              "      <th>Case Fatality Rate</th>\n",
              "      <th>Case Recovered Rate</th>\n",
              "      <th>Growth Factor of New Cases</th>\n",
              "      <th>Growth Factor of New Deaths</th>\n",
              "    </tr>\n",
              "  </thead>\n",
              "  <tbody>\n",
              "    <tr>\n",
              "      <th>0</th>\n",
              "      <td>3/1/2020</td>\n",
              "      <td>ID-JK</td>\n",
              "      <td>DKI Jakarta</td>\n",
              "      <td>2</td>\n",
              "      <td>0</td>\n",
              "      <td>0</td>\n",
              "      <td>2</td>\n",
              "      <td>39</td>\n",
              "      <td>20</td>\n",
              "      <td>41</td>\n",
              "      <td>-22</td>\n",
              "      <td>Province</td>\n",
              "      <td>NaN</td>\n",
              "      <td>DKI Jakarta</td>\n",
              "      <td>Indonesia</td>\n",
              "      <td>Asia</td>\n",
              "      <td>Jawa</td>\n",
              "      <td>UTC+07:00</td>\n",
              "      <td>Daerah Khusus Ibu Kota</td>\n",
              "      <td>1</td>\n",
              "      <td>5.0</td>\n",
              "      <td>44</td>\n",
              "      <td>267.0</td>\n",
              "      <td>NaN</td>\n",
              "      <td>664</td>\n",
              "      <td>10846145</td>\n",
              "      <td>16334.31</td>\n",
              "      <td>106.836118</td>\n",
              "      <td>-6.204699</td>\n",
              "      <td>0.18</td>\n",
              "      <td>3.60</td>\n",
              "      <td>0.0</td>\n",
              "      <td>1.84</td>\n",
              "      <td>0.18</td>\n",
              "      <td>51.28%</td>\n",
              "      <td>105.13%</td>\n",
              "      <td>NaN</td>\n",
              "      <td>NaN</td>\n",
              "    </tr>\n",
              "    <tr>\n",
              "      <th>1</th>\n",
              "      <td>3/2/2020</td>\n",
              "      <td>ID-JK</td>\n",
              "      <td>DKI Jakarta</td>\n",
              "      <td>2</td>\n",
              "      <td>0</td>\n",
              "      <td>0</td>\n",
              "      <td>2</td>\n",
              "      <td>41</td>\n",
              "      <td>20</td>\n",
              "      <td>41</td>\n",
              "      <td>-20</td>\n",
              "      <td>Province</td>\n",
              "      <td>NaN</td>\n",
              "      <td>DKI Jakarta</td>\n",
              "      <td>Indonesia</td>\n",
              "      <td>Asia</td>\n",
              "      <td>Jawa</td>\n",
              "      <td>UTC+07:00</td>\n",
              "      <td>Daerah Khusus Ibu Kota</td>\n",
              "      <td>1</td>\n",
              "      <td>5.0</td>\n",
              "      <td>44</td>\n",
              "      <td>267.0</td>\n",
              "      <td>NaN</td>\n",
              "      <td>664</td>\n",
              "      <td>10846145</td>\n",
              "      <td>16334.31</td>\n",
              "      <td>106.836118</td>\n",
              "      <td>-6.204699</td>\n",
              "      <td>0.18</td>\n",
              "      <td>3.78</td>\n",
              "      <td>0.0</td>\n",
              "      <td>1.84</td>\n",
              "      <td>0.18</td>\n",
              "      <td>48.78%</td>\n",
              "      <td>100.00%</td>\n",
              "      <td>1.0</td>\n",
              "      <td>1.0</td>\n",
              "    </tr>\n",
              "    <tr>\n",
              "      <th>2</th>\n",
              "      <td>3/2/2020</td>\n",
              "      <td>IDN</td>\n",
              "      <td>Indonesia</td>\n",
              "      <td>2</td>\n",
              "      <td>0</td>\n",
              "      <td>0</td>\n",
              "      <td>2</td>\n",
              "      <td>2</td>\n",
              "      <td>0</td>\n",
              "      <td>0</td>\n",
              "      <td>2</td>\n",
              "      <td>Country</td>\n",
              "      <td>NaN</td>\n",
              "      <td>NaN</td>\n",
              "      <td>Indonesia</td>\n",
              "      <td>Asia</td>\n",
              "      <td>NaN</td>\n",
              "      <td>NaN</td>\n",
              "      <td>NaN</td>\n",
              "      <td>416</td>\n",
              "      <td>98.0</td>\n",
              "      <td>7230</td>\n",
              "      <td>8488.0</td>\n",
              "      <td>74953.0</td>\n",
              "      <td>1916907</td>\n",
              "      <td>265185520</td>\n",
              "      <td>138.34</td>\n",
              "      <td>113.921327</td>\n",
              "      <td>-0.789275</td>\n",
              "      <td>0.01</td>\n",
              "      <td>0.01</td>\n",
              "      <td>0.0</td>\n",
              "      <td>0.00</td>\n",
              "      <td>0.00</td>\n",
              "      <td>0.00%</td>\n",
              "      <td>0.00%</td>\n",
              "      <td>NaN</td>\n",
              "      <td>NaN</td>\n",
              "    </tr>\n",
              "    <tr>\n",
              "      <th>3</th>\n",
              "      <td>3/2/2020</td>\n",
              "      <td>ID-RI</td>\n",
              "      <td>Riau</td>\n",
              "      <td>1</td>\n",
              "      <td>0</td>\n",
              "      <td>0</td>\n",
              "      <td>1</td>\n",
              "      <td>2</td>\n",
              "      <td>0</td>\n",
              "      <td>3</td>\n",
              "      <td>-1</td>\n",
              "      <td>Province</td>\n",
              "      <td>NaN</td>\n",
              "      <td>Riau</td>\n",
              "      <td>Indonesia</td>\n",
              "      <td>Asia</td>\n",
              "      <td>Sumatera</td>\n",
              "      <td>UTC+07:00</td>\n",
              "      <td>NaN</td>\n",
              "      <td>10</td>\n",
              "      <td>2.0</td>\n",
              "      <td>169</td>\n",
              "      <td>268.0</td>\n",
              "      <td>1591.0</td>\n",
              "      <td>87024</td>\n",
              "      <td>6074100</td>\n",
              "      <td>69.80</td>\n",
              "      <td>101.805109</td>\n",
              "      <td>0.511648</td>\n",
              "      <td>0.16</td>\n",
              "      <td>0.33</td>\n",
              "      <td>0.0</td>\n",
              "      <td>0.00</td>\n",
              "      <td>0.00</td>\n",
              "      <td>0.00%</td>\n",
              "      <td>150.00%</td>\n",
              "      <td>NaN</td>\n",
              "      <td>NaN</td>\n",
              "    </tr>\n",
              "    <tr>\n",
              "      <th>4</th>\n",
              "      <td>3/3/2020</td>\n",
              "      <td>ID-JK</td>\n",
              "      <td>DKI Jakarta</td>\n",
              "      <td>2</td>\n",
              "      <td>0</td>\n",
              "      <td>0</td>\n",
              "      <td>2</td>\n",
              "      <td>43</td>\n",
              "      <td>20</td>\n",
              "      <td>41</td>\n",
              "      <td>-18</td>\n",
              "      <td>Province</td>\n",
              "      <td>NaN</td>\n",
              "      <td>DKI Jakarta</td>\n",
              "      <td>Indonesia</td>\n",
              "      <td>Asia</td>\n",
              "      <td>Jawa</td>\n",
              "      <td>UTC+07:00</td>\n",
              "      <td>Daerah Khusus Ibu Kota</td>\n",
              "      <td>1</td>\n",
              "      <td>5.0</td>\n",
              "      <td>44</td>\n",
              "      <td>267.0</td>\n",
              "      <td>NaN</td>\n",
              "      <td>664</td>\n",
              "      <td>10846145</td>\n",
              "      <td>16334.31</td>\n",
              "      <td>106.836118</td>\n",
              "      <td>-6.204699</td>\n",
              "      <td>0.18</td>\n",
              "      <td>3.96</td>\n",
              "      <td>0.0</td>\n",
              "      <td>1.84</td>\n",
              "      <td>0.18</td>\n",
              "      <td>46.51%</td>\n",
              "      <td>95.35%</td>\n",
              "      <td>1.0</td>\n",
              "      <td>1.0</td>\n",
              "    </tr>\n",
              "  </tbody>\n",
              "</table>\n",
              "</div>"
            ],
            "text/plain": [
              "       Date  ... Growth Factor of New Deaths\n",
              "0  3/1/2020  ...                         NaN\n",
              "1  3/2/2020  ...                         1.0\n",
              "2  3/2/2020  ...                         NaN\n",
              "3  3/2/2020  ...                         NaN\n",
              "4  3/3/2020  ...                         1.0\n",
              "\n",
              "[5 rows x 38 columns]"
            ]
          },
          "metadata": {},
          "execution_count": 8
        }
      ]
    },
    {
      "cell_type": "code",
      "metadata": {
        "colab": {
          "base_uri": "https://localhost:8080/"
        },
        "id": "UC3JBVkW99TH",
        "outputId": "bc7dd1d3-c8cc-4eab-a825-06f638926080"
      },
      "source": [
        "df_filter = df[[\"Total Cases\", \"Total Deaths\",\"Total Recovered\"]].copy()\n",
        "df_filter.info()"
      ],
      "execution_count": 14,
      "outputs": [
        {
          "output_type": "stream",
          "name": "stdout",
          "text": [
            "<class 'pandas.core.frame.DataFrame'>\n",
            "RangeIndex: 21759 entries, 0 to 21758\n",
            "Data columns (total 3 columns):\n",
            " #   Column           Non-Null Count  Dtype\n",
            "---  ------           --------------  -----\n",
            " 0   Total Cases      21759 non-null  int64\n",
            " 1   Total Deaths     21759 non-null  int64\n",
            " 2   Total Recovered  21759 non-null  int64\n",
            "dtypes: int64(3)\n",
            "memory usage: 510.1 KB\n"
          ]
        }
      ]
    },
    {
      "cell_type": "markdown",
      "metadata": {
        "id": "-pNTHWyZ_nU-"
      },
      "source": [
        "#Measure of Central Tendency and Variance"
      ]
    },
    {
      "cell_type": "code",
      "metadata": {
        "colab": {
          "base_uri": "https://localhost:8080/",
          "height": 300
        },
        "id": "viigjrZp_XUv",
        "outputId": "bfb3445e-8965-44a7-c6da-cd7266b75efa"
      },
      "source": [
        "df_filter.describe()"
      ],
      "execution_count": 15,
      "outputs": [
        {
          "output_type": "execute_result",
          "data": {
            "text/html": [
              "<div>\n",
              "<style scoped>\n",
              "    .dataframe tbody tr th:only-of-type {\n",
              "        vertical-align: middle;\n",
              "    }\n",
              "\n",
              "    .dataframe tbody tr th {\n",
              "        vertical-align: top;\n",
              "    }\n",
              "\n",
              "    .dataframe thead th {\n",
              "        text-align: right;\n",
              "    }\n",
              "</style>\n",
              "<table border=\"1\" class=\"dataframe\">\n",
              "  <thead>\n",
              "    <tr style=\"text-align: right;\">\n",
              "      <th></th>\n",
              "      <th>Total Cases</th>\n",
              "      <th>Total Deaths</th>\n",
              "      <th>Total Recovered</th>\n",
              "    </tr>\n",
              "  </thead>\n",
              "  <tbody>\n",
              "    <tr>\n",
              "      <th>count</th>\n",
              "      <td>2.175900e+04</td>\n",
              "      <td>21759.000000</td>\n",
              "      <td>2.175900e+04</td>\n",
              "    </tr>\n",
              "    <tr>\n",
              "      <th>mean</th>\n",
              "      <td>8.525997e+04</td>\n",
              "      <td>2648.289352</td>\n",
              "      <td>7.671260e+04</td>\n",
              "    </tr>\n",
              "    <tr>\n",
              "      <th>std</th>\n",
              "      <td>3.685133e+05</td>\n",
              "      <td>11776.011067</td>\n",
              "      <td>3.403957e+05</td>\n",
              "    </tr>\n",
              "    <tr>\n",
              "      <th>min</th>\n",
              "      <td>1.000000e+00</td>\n",
              "      <td>0.000000</td>\n",
              "      <td>0.000000e+00</td>\n",
              "    </tr>\n",
              "    <tr>\n",
              "      <th>25%</th>\n",
              "      <td>1.822500e+03</td>\n",
              "      <td>50.000000</td>\n",
              "      <td>1.038500e+03</td>\n",
              "    </tr>\n",
              "    <tr>\n",
              "      <th>50%</th>\n",
              "      <td>1.078000e+04</td>\n",
              "      <td>283.000000</td>\n",
              "      <td>8.745000e+03</td>\n",
              "    </tr>\n",
              "    <tr>\n",
              "      <th>75%</th>\n",
              "      <td>3.646450e+04</td>\n",
              "      <td>1050.000000</td>\n",
              "      <td>3.293250e+04</td>\n",
              "    </tr>\n",
              "    <tr>\n",
              "      <th>max</th>\n",
              "      <td>4.257243e+06</td>\n",
              "      <td>143858.000000</td>\n",
              "      <td>4.105680e+06</td>\n",
              "    </tr>\n",
              "  </tbody>\n",
              "</table>\n",
              "</div>"
            ],
            "text/plain": [
              "        Total Cases   Total Deaths  Total Recovered\n",
              "count  2.175900e+04   21759.000000     2.175900e+04\n",
              "mean   8.525997e+04    2648.289352     7.671260e+04\n",
              "std    3.685133e+05   11776.011067     3.403957e+05\n",
              "min    1.000000e+00       0.000000     0.000000e+00\n",
              "25%    1.822500e+03      50.000000     1.038500e+03\n",
              "50%    1.078000e+04     283.000000     8.745000e+03\n",
              "75%    3.646450e+04    1050.000000     3.293250e+04\n",
              "max    4.257243e+06  143858.000000     4.105680e+06"
            ]
          },
          "metadata": {},
          "execution_count": 15
        }
      ]
    },
    {
      "cell_type": "code",
      "metadata": {
        "colab": {
          "base_uri": "https://localhost:8080/"
        },
        "id": "MyKXKvap_5sf",
        "outputId": "d923e95d-afcc-45a1-ebfd-9a2b4095a583"
      },
      "source": [
        "#standard deviation\n",
        "print(\"Numeric columns Standard Deviation\")\n",
        "print(df_filter.std())\n",
        "print(\"\")\n",
        "print(\"Numeric columns Variance\")\n",
        "print(df_filter.var())\n",
        "print(\"\")\n",
        "#Range\n",
        "num_columns = df_filter.describe().columns\n",
        "print(\"range\")\n",
        "print(df_filter[num_columns].max()-df_filter[num_columns].min())"
      ],
      "execution_count": 16,
      "outputs": [
        {
          "output_type": "stream",
          "name": "stdout",
          "text": [
            "Numeric columns Standard Deviation\n",
            "Total Cases        368513.285849\n",
            "Total Deaths        11776.011067\n",
            "Total Recovered    340395.710890\n",
            "dtype: float64\n",
            "\n",
            "Numeric columns Variance\n",
            "Total Cases        1.358020e+11\n",
            "Total Deaths       1.386744e+08\n",
            "Total Recovered    1.158692e+11\n",
            "dtype: float64\n",
            "\n",
            "range\n",
            "Total Cases        4257242\n",
            "Total Deaths        143858\n",
            "Total Recovered    4105680\n",
            "dtype: int64\n"
          ]
        }
      ]
    },
    {
      "cell_type": "code",
      "metadata": {
        "colab": {
          "base_uri": "https://localhost:8080/",
          "height": 81
        },
        "id": "i9h35JsU_7Ch",
        "outputId": "83a83a27-9203-4697-e961-6053c76df5ab"
      },
      "source": [
        "df_filter.mode()"
      ],
      "execution_count": 17,
      "outputs": [
        {
          "output_type": "execute_result",
          "data": {
            "text/html": [
              "<div>\n",
              "<style scoped>\n",
              "    .dataframe tbody tr th:only-of-type {\n",
              "        vertical-align: middle;\n",
              "    }\n",
              "\n",
              "    .dataframe tbody tr th {\n",
              "        vertical-align: top;\n",
              "    }\n",
              "\n",
              "    .dataframe thead th {\n",
              "        text-align: right;\n",
              "    }\n",
              "</style>\n",
              "<table border=\"1\" class=\"dataframe\">\n",
              "  <thead>\n",
              "    <tr style=\"text-align: right;\">\n",
              "      <th></th>\n",
              "      <th>Total Cases</th>\n",
              "      <th>Total Deaths</th>\n",
              "      <th>Total Recovered</th>\n",
              "    </tr>\n",
              "  </thead>\n",
              "  <tbody>\n",
              "    <tr>\n",
              "      <th>0</th>\n",
              "      <td>2</td>\n",
              "      <td>1</td>\n",
              "      <td>0</td>\n",
              "    </tr>\n",
              "  </tbody>\n",
              "</table>\n",
              "</div>"
            ],
            "text/plain": [
              "   Total Cases  Total Deaths  Total Recovered\n",
              "0            2             1                0"
            ]
          },
          "metadata": {},
          "execution_count": 17
        }
      ]
    },
    {
      "cell_type": "code",
      "metadata": {
        "colab": {
          "base_uri": "https://localhost:8080/",
          "height": 306
        },
        "id": "lmuuSEr8AAO5",
        "outputId": "ad5c4dcf-71db-44e2-c006-bba22908608c"
      },
      "source": [
        "df_filter['Total Cases'].plot.hist(bins=5,density=True)\n",
        "plt.axvline(df_filter['Total Cases'].describe()['mean'], color='red', linestyle='dashed', linewidth=2)\n",
        "plt.axvline(df_filter['Total Cases'].describe()['50%'], color='magenta', linestyle='dashed', linewidth=2)\n",
        "plt.axvline(df_filter['Total Cases'].describe()['mean']+df_filt['Total Cases'].describe()['std']\n",
        "            , color='green', linestyle='dashed', linewidth=2)\n",
        "plt.axvline(df_filter['Total Cases'].mode()[0], color='yellow', linestyle='dashed', linewidth=2)"
      ],
      "execution_count": 18,
      "outputs": [
        {
          "output_type": "execute_result",
          "data": {
            "text/plain": [
              "<matplotlib.lines.Line2D at 0x7ff46dc37550>"
            ]
          },
          "metadata": {},
          "execution_count": 18
        },
        {
          "output_type": "display_data",
          "data": {
            "image/png": "[encoded data removed]",
            "text/plain": [
              "<Figure size 432x288 with 1 Axes>"
            ]
          },
          "metadata": {
            "needs_background": "light"
          }
        }
      ]
    }
  ]
}