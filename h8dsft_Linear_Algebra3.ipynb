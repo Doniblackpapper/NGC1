{
  "nbformat": 4,
  "nbformat_minor": 0,
  "metadata": {
    "colab": {
      "name": "h8dsft_Linear_Algebra3.ipynb",
      "provenance": []
    },
    "kernelspec": {
      "name": "python3",
      "display_name": "Python 3"
    },
    "language_info": {
      "name": "python"
    }
  },
  "cells": [
    {
      "cell_type": "markdown",
      "metadata": {
        "id": "OJ0cc74mWqMH"
      },
      "source": [
        "Apakah $\\begin{bmatrix}1 \\\\3\\end{bmatrix}$ adalah eigenvector dari $\\begin{bmatrix}1 & -1\\\\6 &-4 \\end{bmatrix}$? Jika iya, berapakah eigenvalue-nya?"
      ]
    },
    {
      "cell_type": "code",
      "metadata": {
        "id": "N5PMtEmHTf6X"
      },
      "source": [
        "#import library needed\n",
        "import numpy as np\n",
        "import matplotlib.pyplot as plt\n",
        "import numpy.linalg as la"
      ],
      "execution_count": 1,
      "outputs": []
    },
    {
      "cell_type": "code",
      "metadata": {
        "id": "ftV7EkcUTn9W"
      },
      "source": [
        "#membuat array dengan python\n",
        "A=np.array([[1,-1],[6,-4]])\n",
        "v=np.array([[1],[3]])"
      ],
      "execution_count": 2,
      "outputs": []
    },
    {
      "cell_type": "markdown",
      "metadata": {
        "id": "GJq9uIJgUL-K"
      },
      "source": [
        "Jika v adalah eigenvector A maka kita mempunyai Av=λv\n"
      ]
    },
    {
      "cell_type": "code",
      "metadata": {
        "colab": {
          "base_uri": "https://localhost:8080/"
        },
        "id": "WYKEtDYfTq_q",
        "outputId": "a4f9d490-807e-45af-e113-0fa4e54add4d"
      },
      "source": [
        "Av=A.dot(v)\n",
        "Av"
      ],
      "execution_count": 3,
      "outputs": [
        {
          "output_type": "execute_result",
          "data": {
            "text/plain": [
              "array([[-2],\n",
              "       [-6]])"
            ]
          },
          "metadata": {},
          "execution_count": 3
        }
      ]
    },
    {
      "cell_type": "markdown",
      "metadata": {
        "id": "yp9XQ3xFWwul"
      },
      "source": [
        " Av=$\\begin{bmatrix}1 & -1\\\\6 &-4 \\end{bmatrix}$$\\begin{bmatrix}1 \\\\3\\end{bmatrix}$= $\\begin{bmatrix}-2\\\\ -6\\end{bmatrix}$= -3v"
      ]
    },
    {
      "cell_type": "markdown",
      "metadata": {
        "id": "_6oXPu4RW8S4"
      },
      "source": [
        "v adalah eigenvector dari A karena merupakan multiple dari v,  dengan eigenvalue λ =-3"
      ]
    }
  ]
}